{
  "cells": [
    {
      "cell_type": "code",
      "execution_count": 1,
      "metadata": {
        "id": "z8Auv5Ec6YbI"
      },
      "outputs": [],
      "source": [
        "import matplotlib.pyplot as plt\n",
        "import numpy as np\n",
        "import cv2"
      ]
    },
    {
      "cell_type": "code",
      "execution_count": 2,
      "metadata": {
        "colab": {
          "base_uri": "https://localhost:8080/",
          "height": 73
        },
        "id": "xXcv0acsh9Hr",
        "outputId": "94b5cfc7-1094-45f5-85e1-582ca3586585"
      },
      "outputs": [
        {
          "output_type": "display_data",
          "data": {
            "text/plain": [
              "<IPython.core.display.HTML object>"
            ],
            "text/html": [
              "\n",
              "     <input type=\"file\" id=\"files-7c4f680d-d0a8-4d14-8a90-01b252a133ac\" name=\"files[]\" multiple disabled\n",
              "        style=\"border:none\" />\n",
              "     <output id=\"result-7c4f680d-d0a8-4d14-8a90-01b252a133ac\">\n",
              "      Upload widget is only available when the cell has been executed in the\n",
              "      current browser session. Please rerun this cell to enable.\n",
              "      </output>\n",
              "      <script>// Copyright 2017 Google LLC\n",
              "//\n",
              "// Licensed under the Apache License, Version 2.0 (the \"License\");\n",
              "// you may not use this file except in compliance with the License.\n",
              "// You may obtain a copy of the License at\n",
              "//\n",
              "//      http://www.apache.org/licenses/LICENSE-2.0\n",
              "//\n",
              "// Unless required by applicable law or agreed to in writing, software\n",
              "// distributed under the License is distributed on an \"AS IS\" BASIS,\n",
              "// WITHOUT WARRANTIES OR CONDITIONS OF ANY KIND, either express or implied.\n",
              "// See the License for the specific language governing permissions and\n",
              "// limitations under the License.\n",
              "\n",
              "/**\n",
              " * @fileoverview Helpers for google.colab Python module.\n",
              " */\n",
              "(function(scope) {\n",
              "function span(text, styleAttributes = {}) {\n",
              "  const element = document.createElement('span');\n",
              "  element.textContent = text;\n",
              "  for (const key of Object.keys(styleAttributes)) {\n",
              "    element.style[key] = styleAttributes[key];\n",
              "  }\n",
              "  return element;\n",
              "}\n",
              "\n",
              "// Max number of bytes which will be uploaded at a time.\n",
              "const MAX_PAYLOAD_SIZE = 100 * 1024;\n",
              "\n",
              "function _uploadFiles(inputId, outputId) {\n",
              "  const steps = uploadFilesStep(inputId, outputId);\n",
              "  const outputElement = document.getElementById(outputId);\n",
              "  // Cache steps on the outputElement to make it available for the next call\n",
              "  // to uploadFilesContinue from Python.\n",
              "  outputElement.steps = steps;\n",
              "\n",
              "  return _uploadFilesContinue(outputId);\n",
              "}\n",
              "\n",
              "// This is roughly an async generator (not supported in the browser yet),\n",
              "// where there are multiple asynchronous steps and the Python side is going\n",
              "// to poll for completion of each step.\n",
              "// This uses a Promise to block the python side on completion of each step,\n",
              "// then passes the result of the previous step as the input to the next step.\n",
              "function _uploadFilesContinue(outputId) {\n",
              "  const outputElement = document.getElementById(outputId);\n",
              "  const steps = outputElement.steps;\n",
              "\n",
              "  const next = steps.next(outputElement.lastPromiseValue);\n",
              "  return Promise.resolve(next.value.promise).then((value) => {\n",
              "    // Cache the last promise value to make it available to the next\n",
              "    // step of the generator.\n",
              "    outputElement.lastPromiseValue = value;\n",
              "    return next.value.response;\n",
              "  });\n",
              "}\n",
              "\n",
              "/**\n",
              " * Generator function which is called between each async step of the upload\n",
              " * process.\n",
              " * @param {string} inputId Element ID of the input file picker element.\n",
              " * @param {string} outputId Element ID of the output display.\n",
              " * @return {!Iterable<!Object>} Iterable of next steps.\n",
              " */\n",
              "function* uploadFilesStep(inputId, outputId) {\n",
              "  const inputElement = document.getElementById(inputId);\n",
              "  inputElement.disabled = false;\n",
              "\n",
              "  const outputElement = document.getElementById(outputId);\n",
              "  outputElement.innerHTML = '';\n",
              "\n",
              "  const pickedPromise = new Promise((resolve) => {\n",
              "    inputElement.addEventListener('change', (e) => {\n",
              "      resolve(e.target.files);\n",
              "    });\n",
              "  });\n",
              "\n",
              "  const cancel = document.createElement('button');\n",
              "  inputElement.parentElement.appendChild(cancel);\n",
              "  cancel.textContent = 'Cancel upload';\n",
              "  const cancelPromise = new Promise((resolve) => {\n",
              "    cancel.onclick = () => {\n",
              "      resolve(null);\n",
              "    };\n",
              "  });\n",
              "\n",
              "  // Wait for the user to pick the files.\n",
              "  const files = yield {\n",
              "    promise: Promise.race([pickedPromise, cancelPromise]),\n",
              "    response: {\n",
              "      action: 'starting',\n",
              "    }\n",
              "  };\n",
              "\n",
              "  cancel.remove();\n",
              "\n",
              "  // Disable the input element since further picks are not allowed.\n",
              "  inputElement.disabled = true;\n",
              "\n",
              "  if (!files) {\n",
              "    return {\n",
              "      response: {\n",
              "        action: 'complete',\n",
              "      }\n",
              "    };\n",
              "  }\n",
              "\n",
              "  for (const file of files) {\n",
              "    const li = document.createElement('li');\n",
              "    li.append(span(file.name, {fontWeight: 'bold'}));\n",
              "    li.append(span(\n",
              "        `(${file.type || 'n/a'}) - ${file.size} bytes, ` +\n",
              "        `last modified: ${\n",
              "            file.lastModifiedDate ? file.lastModifiedDate.toLocaleDateString() :\n",
              "                                    'n/a'} - `));\n",
              "    const percent = span('0% done');\n",
              "    li.appendChild(percent);\n",
              "\n",
              "    outputElement.appendChild(li);\n",
              "\n",
              "    const fileDataPromise = new Promise((resolve) => {\n",
              "      const reader = new FileReader();\n",
              "      reader.onload = (e) => {\n",
              "        resolve(e.target.result);\n",
              "      };\n",
              "      reader.readAsArrayBuffer(file);\n",
              "    });\n",
              "    // Wait for the data to be ready.\n",
              "    let fileData = yield {\n",
              "      promise: fileDataPromise,\n",
              "      response: {\n",
              "        action: 'continue',\n",
              "      }\n",
              "    };\n",
              "\n",
              "    // Use a chunked sending to avoid message size limits. See b/62115660.\n",
              "    let position = 0;\n",
              "    do {\n",
              "      const length = Math.min(fileData.byteLength - position, MAX_PAYLOAD_SIZE);\n",
              "      const chunk = new Uint8Array(fileData, position, length);\n",
              "      position += length;\n",
              "\n",
              "      const base64 = btoa(String.fromCharCode.apply(null, chunk));\n",
              "      yield {\n",
              "        response: {\n",
              "          action: 'append',\n",
              "          file: file.name,\n",
              "          data: base64,\n",
              "        },\n",
              "      };\n",
              "\n",
              "      let percentDone = fileData.byteLength === 0 ?\n",
              "          100 :\n",
              "          Math.round((position / fileData.byteLength) * 100);\n",
              "      percent.textContent = `${percentDone}% done`;\n",
              "\n",
              "    } while (position < fileData.byteLength);\n",
              "  }\n",
              "\n",
              "  // All done.\n",
              "  yield {\n",
              "    response: {\n",
              "      action: 'complete',\n",
              "    }\n",
              "  };\n",
              "}\n",
              "\n",
              "scope.google = scope.google || {};\n",
              "scope.google.colab = scope.google.colab || {};\n",
              "scope.google.colab._files = {\n",
              "  _uploadFiles,\n",
              "  _uploadFilesContinue,\n",
              "};\n",
              "})(self);\n",
              "</script> "
            ]
          },
          "metadata": {}
        },
        {
          "output_type": "stream",
          "name": "stdout",
          "text": [
            "Saving dogpix.png to dogpix.png\n"
          ]
        }
      ],
      "source": [
        "from google.colab import files\n",
        "uploaded = files.upload()"
      ]
    },
    {
      "cell_type": "code",
      "execution_count": 4,
      "metadata": {
        "colab": {
          "base_uri": "https://localhost:8080/",
          "height": 406
        },
        "id": "_gfbloTJh2YG",
        "outputId": "c475d4b9-7797-4aa7-b490-1c94fda2d219"
      },
      "outputs": [
        {
          "output_type": "display_data",
          "data": {
            "text/plain": [
              "<Figure size 640x480 with 1 Axes>"
            ],
            "image/png": "[encoded data removed]"
          },
          "metadata": {}
        }
      ],
      "source": [
        "# Load the uploaded image\n",
        "image_path = next(iter(uploaded.keys()))\n",
        "img = cv2.imread(image_path)\n",
        "\n",
        "# Convert the image from BGR to RGB\n",
        "img_rgb = cv2.cvtColor(img, cv2.COLOR_BGR2RGB)\n",
        "\n",
        "# Display the image\n",
        "plt.imshow(img_rgb)\n",
        "plt.axis('off')\n",
        "plt.show()\n",
        "\n",
        "# Get the shape of the image\n",
        "height, width, _ = img_rgb.shape\n",
        "# Convert the image to an array of RGB values\n",
        "rgb_values = img_rgb.reshape(height, width, 3)"
      ]
    },
    {
      "cell_type": "code",
      "execution_count": 5,
      "metadata": {
        "id": "CDbei36W7eMP"
      },
      "outputs": [],
      "source": [
        "def softmax(Data):\n",
        "    f = [i/sum([2.718281828459045**i for i in Data]) for i in [2.718281828459045**i for i in Data]]\n",
        "    return [f,max(f)]\n",
        "\n",
        "def convert(bias_square_value,customValue):\n",
        "     a = [[1/(customValue**2) for _ in range (0,int(customValue))]for _ in range (0,int(customValue))]\n",
        "     b = bias_square_value\n",
        "     return a,b\n",
        "\n",
        "def pixexc(im, row, col, size):\n",
        "    # Ensure the row and column are within valid ranges\n",
        "    max_row, max_col = im.shape[0] - 1, im.shape[1] - 1\n",
        "    neighborhood = []\n",
        "    # Calculate the half size of the neighborhood\n",
        "    half_size = size // 2\n",
        "    # Iterate over the neighborhood\n",
        "    for r in range(row - half_size, row + half_size + 1):\n",
        "        row_vals = []\n",
        "        for c in range(col - half_size, col + half_size + 1):\n",
        "            if 0 <= r <= max_row and 0 <= c <= max_col:\n",
        "                row_vals.append(tuple(im[r, c]))\n",
        "            else:\n",
        "                row_vals.append((255, 255, 255))\n",
        "        neighborhood.append(row_vals)\n",
        "    return neighborhood\n",
        "\n",
        "def display_image_from_colors(color_array):\n",
        "    # Convert the list of lists of tuples into a NumPy array\n",
        "    np_array = np.array(color_array, dtype=np.uint8)\n",
        "    # Display the image\n",
        "    plt.imshow(np_array)\n",
        "    plt.axis('off')  # Hide the axes\n",
        "    plt.show()\n",
        "\n",
        "def avg(n_img,bias,sq_size):\n",
        "  nars_pix = n_img\n",
        "  red, green, blue = extract_rgb_values(nars_pix,sq_size)\n",
        "\n",
        "  r_vect = (np.array(red)).reshape(sq_size**2)\n",
        "  g_vect = (np.array(green)).reshape(sq_size**2)\n",
        "  b_vect = (np.array(blue)).reshape(sq_size**2)\n",
        "\n",
        "  bias_vect = bias.reshape(sq_size**2)\n",
        "\n",
        "  r = np.dot(r_vect, bias_vect)\n",
        "  g = np.dot(g_vect, bias_vect)\n",
        "  b = np.dot(b_vect, bias_vect)\n",
        "\n",
        "\n",
        "  return(r,g,b)\n",
        "\n",
        "\n",
        "def load_and_resize_image(image_path, size=(height, width)):\n",
        "    # Load the image\n",
        "    img = cv2.imread(image_path)\n",
        "    if img is None:\n",
        "        raise ValueError(f\"Image at path '{image_path}' could not be loaded.\")\n",
        "    # Resize the image to the specified size\n",
        "    img_resized = cv2.resize(img, size)\n",
        "    # Convert the image from BGR to RGB\n",
        "    img_rgb = cv2.cvtColor(img_resized, cv2.COLOR_BGR2RGB)\n",
        "    return img_rgb\n",
        "\n",
        "def extract_rgb_values(pixel_neighborhood,sq_size):\n",
        "    red = []\n",
        "    green = []\n",
        "    blue = []\n",
        "    for i in range(sq_size):\n",
        "        for j in range(sq_size):\n",
        "            r, g, b = pixel_neighborhood[i][j]\n",
        "            red.append(r)\n",
        "            green.append(g)\n",
        "            blue.append(b)\n",
        "    return red, green, blue\n",
        "\n",
        "# Extract RGB values"
      ]
    },
    {
      "cell_type": "code",
      "execution_count": 7,
      "metadata": {
        "id": "btC2NgCfDwM0"
      },
      "outputs": [],
      "source": [
        "# logic  ====>  r,g,b = (r1*B1+r2*B2+r3*B3+r4*B4z+r5*B5+r6*B6+r7*B7+r8*B8+r9*B9), (g1*B1+g2*B2+g3*B3+g4*B4+g5*B5+g6*B6+g7*B7+g8*B8+g9*B9), (b1*B1+b2*B2+b3*B3+b4*B4+b5*B5+b6*B6+b7*B7+b8*B8+b9*B9)\n",
        "# bias = convert(3)"
      ]
    },
    {
      "cell_type": "code",
      "source": [
        "\n",
        "nabour_sqs = 7\n",
        "if nabour_sqs//2 != 0 :\n",
        "  nabour_sqs = nabour_sqs\n",
        "else:\n",
        "  nabour_sqs = nabour_sqs + 1\n",
        "img_rgb = load_and_resize_image(image_path)\n",
        "# Specify the row and column you want to fetch the neighborhood of\n",
        "row, col = 70, 70\n",
        "# Fetch and print the 3x3 pixel neighborhood\n",
        "pixel_neighborhood = (np.array(pixexc(img_rgb, row, col,nabour_sqs)))\n",
        "# print(pixel_neighborhood)\n",
        "#display_image_from_colors(pixel_neighborhood)\n",
        "#xtract_rgb_values(pixel_neighborhood,nabour_sqs)"
      ],
      "metadata": {
        "id": "9FBDpo0bjuic"
      },
      "execution_count": 6,
      "outputs": []
    },
    {
      "cell_type": "code",
      "source": [
        "custombias = [[1,1,1,1,1],\n",
        "              [1,-3,-3,-3,1],\n",
        "              [1,-3,-5,-3,1],\n",
        "              [1,-3,-3,-3,1],\n",
        "              [1,1,1,1,1]]\n",
        "\n",
        "custombias = np.array(custombias)\n",
        "custombias = custombias.reshape(custombias.size)\n",
        "custombias = softmax(custombias)[0]\n",
        "custombias = np.array(custombias)\n",
        "custombias = custombias.reshape(int(np.sqrt(custombias.size)),int(np.sqrt(custombias.size)))\n",
        "print(custombias)\n",
        "blur_power = np.sqrt(custombias.size)"
      ],
      "metadata": {
        "colab": {
          "base_uri": "https://localhost:8080/",
          "height": 0
        },
        "id": "JTBkmrpsePqf",
        "outputId": "e051ed7a-1413-4af7-d803-69a6489f4680"
      },
      "execution_count": 8,
      "outputs": [
        {
          "output_type": "stream",
          "name": "stdout",
          "text": [
            "[[0.06192332 0.06192332 0.06192332 0.06192332 0.06192332]\n",
            " [0.06192332 0.00113417 0.00113417 0.00113417 0.06192332]\n",
            " [0.06192332 0.00113417 0.00015349 0.00113417 0.06192332]\n",
            " [0.06192332 0.00113417 0.00113417 0.00113417 0.06192332]\n",
            " [0.06192332 0.06192332 0.06192332 0.06192332 0.06192332]]\n"
          ]
        }
      ]
    },
    {
      "cell_type": "code",
      "execution_count": 9,
      "metadata": {
        "id": "DZYz7reiGk-H"
      },
      "outputs": [],
      "source": [
        "mean_image = []\n",
        "for i in range(0,height):\n",
        "    for j in range(0,width):\n",
        "      pixel_neighborhood = pixexc(img_rgb, i, j, nabour_sqs)\n",
        "      pixel_neighborhood_avg = avg(pixel_neighborhood,custombias,5)\n",
        "      mean_image.append(pixel_neighborhood_avg)"
      ]
    },
    {
      "cell_type": "code",
      "source": [
        "final_image = ((np.array(mean_image)).reshape(height, width, 3))\n",
        "display_image_from_colors(rgb_values)\n",
        "display_image_from_colors(final_image)\n"
      ],
      "metadata": {
        "colab": {
          "base_uri": "https://localhost:8080/",
          "height": 795
        },
        "id": "EsV7HGCuo07w",
        "outputId": "2be57dcf-9efa-4508-bd58-bc583048d6cf"
      },
      "execution_count": 10,
      "outputs": [
        {
          "output_type": "display_data",
          "data": {
            "text/plain": [
              "<Figure size 640x480 with 1 Axes>"
            ],
            "image/png": "[encoded data removed]"
          },
          "metadata": {}
        },
        {
          "output_type": "display_data",
          "data": {
            "text/plain": [
              "<Figure size 640x480 with 1 Axes>"
            ],
            "image/png": "[encoded data removed]"
          },
          "metadata": {}
        }
      ]
    },
    {
      "cell_type": "markdown",
      "source": [],
      "metadata": {
        "id": "GPpYR1yfBJh-"
      }
    }
  ],
  "metadata": {
    "colab": {
      "provenance": [],
      "gpuType": "T4"
    },
    "kernelspec": {
      "display_name": "Python 3",
      "name": "python3"
    },
    "language_info": {
      "name": "python"
    },
    "accelerator": "GPU"
  },
  "nbformat": 4,
  "nbformat_minor": 0
}